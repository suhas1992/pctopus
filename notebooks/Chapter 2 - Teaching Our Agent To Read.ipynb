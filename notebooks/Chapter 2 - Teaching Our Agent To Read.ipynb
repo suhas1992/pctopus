{
 "cells": [
  {
   "cell_type": "markdown",
   "id": "e2ffef81-7055-44af-9467-ebf41d654713",
   "metadata": {},
   "source": [
    "# Chapter 2: Teaching Our Agent to Read 📚\n",
    "\n",
    "In the previous chapter, we built a simple QA agent that relied solely on its pre-trained knowledge. While impressive, it had a significant limitation - it couldn't access or understand your personal documents and files. It's like having a brilliant friend who can tell you everything about world history but can't read the document right in front of them!\n",
    "\n",
    "\n",
    "In this chapter, we'll fix that by teaching our agent to read and understand text files. We'll also dive deep into fascinating concepts like context windows and explore the delicate balance between context size and speed. Let's get started! 🚀"
   ]
  },
  {
   "cell_type": "markdown",
   "id": "e8272836-fc19-4ee4-a1c6-6e49f41cfbcf",
   "metadata": {},
   "source": [
    "## Setup\n",
    "\n",
    "First, let's import the `OpenAILLM` class that we coded in the previous chapter"
   ]
  },
  {
   "cell_type": "code",
   "execution_count": 1,
   "id": "fd8670e3-7709-4648-8d21-a5850c25d74f",
   "metadata": {},
   "outputs": [],
   "source": [
    "from pctopus.llm.openai_llm import OpenAILLM\n",
    "\n",
    "## Initialize the LLM\n",
    "llm = OpenAILLM()"
   ]
  },
  {
   "cell_type": "markdown",
   "id": "887271ef-d833-44dd-8318-bdbfcfeb00ae",
   "metadata": {},
   "source": [
    "##  Teaching Our Agent to Use Context 🎓\n",
    "\n",
    "Let's start by creating a function that helps our agent use additional context when answering questions:"
   ]
  },
  {
   "cell_type": "code",
   "execution_count": 2,
   "id": "db90cc86-0a78-4cf6-b126-7d04a59fcf3e",
   "metadata": {},
   "outputs": [],
   "source": [
    "def ask_llm_with_context(system_instruction: str, context: str, question: str, model: str = \"gpt-3.5-turbo\") -> str:\n",
    "    \"\"\"Ask a question with specific context\"\"\"\n",
    "\n",
    "    question_with_context = f\"\"\"\n",
    "        Context: {context} \n",
    "        Question: {question}\n",
    "        \"\"\"\n",
    "    \n",
    "    response = llm.ask(\n",
    "        user_question=question_with_context,\n",
    "        system_message=system_instruction,\n",
    "        model=model\n",
    "    )\n",
    "    return response"
   ]
  },
  {
   "cell_type": "markdown",
   "id": "416952fe-d442-4a9d-9fe2-4db4a3f319ef",
   "metadata": {},
   "source": [
    "Let's try it with a simple example about the Pacific Ocean:"
   ]
  },
  {
   "cell_type": "code",
   "execution_count": 3,
   "id": "3706f80c-0385-4e80-a653-2dd71c640a6b",
   "metadata": {},
   "outputs": [
    {
     "name": "stdout",
     "output_type": "stream",
     "text": [
      "Testing our context-aware QA agent:\n",
      "\n",
      "Q: How deep is the Mariana Trench?\n",
      "A: The Mariana Trench reaches a depth of 36,070 feet (10,994 meters).\n",
      "\n",
      "Q: What is the area covered by the Pacific Ocean?\n",
      "A: The area covered by the Pacific Ocean is about 63 million square miles (165 million square kilometers).\n",
      "\n",
      "Q: What is the temperature of the Pacific Ocean?\n",
      "A: I cannot find the answer in the provided context.\n",
      "\n",
      "Q: What is the capital of India?\n",
      "A: I cannot find the answer in the provided context.\n"
     ]
    }
   ],
   "source": [
    "system_instruction = \"\"\"\n",
    "Use the provided context to answer the question. \n",
    "If you cannot find the answer from the provided context, say \"I cannot find the answer in the provided context.\"\n",
    "\"\"\"\n",
    "\n",
    "context = \"\"\"\n",
    "The Pacific Ocean is the largest and deepest ocean on Earth. \n",
    "It covers an area of about 63 million square miles (165 million square kilometers) \n",
    "and contains more than half of the Earth's free water. The Pacific's greatest \n",
    "depth is in the Mariana Trench, which reaches down 36,070 feet (10,994 meters).\n",
    "\"\"\"\n",
    "\n",
    "questions = [\n",
    "    \"How deep is the Mariana Trench?\",\n",
    "    \"What is the area covered by the Pacific Ocean?\",\n",
    "    \"What is the temperature of the Pacific Ocean?\",  # Not in context\n",
    "    \"What is the capital of India?\" # Not in context\n",
    "]\n",
    "\n",
    "\n",
    "print (\"Testing our context-aware QA agent:\")\n",
    "for question in questions:\n",
    "    print(f\"\\nQ: {question}\")\n",
    "    print(f\"A: {ask_llm_with_context(system_instruction, context, question)}\")"
   ]
  },
  {
   "cell_type": "markdown",
   "id": "e55dd376-606d-4494-af85-748c820a3862",
   "metadata": {},
   "source": [
    "Great! Our agent can now:\n",
    "\n",
    "- ✅ Use provided context to answer questions\n",
    "- ✅ Admit when it can't find information in the context\n",
    "- ✅ Stick to the facts from the context"
   ]
  },
  {
   "cell_type": "markdown",
   "id": "0430cf3c-a27a-4c29-9e92-9f687a5609a0",
   "metadata": {},
   "source": [
    "## Reading from Text Files  📄\n",
    "\n",
    "Now that our agent can use context, let's teach it to read actual files:"
   ]
  },
  {
   "cell_type": "code",
   "execution_count": 4,
   "id": "2b4105ea-2b13-4c1f-863a-e67193049754",
   "metadata": {},
   "outputs": [],
   "source": [
    "## This function can handle most text file extensions (.txt, .md. .csv, .json, ...)\n",
    "def read_text_file(file_path: str, encoding: str = 'utf-8') -> str:\n",
    "    \"\"\"Read content from a text file\n",
    "\n",
    "    Args:\n",
    "        file_path (str): Path to the text file\n",
    "        encoding (str): File encoding (default: 'utf-8')\n",
    "    \n",
    "    Returns:\n",
    "        str: Content of the file\n",
    "        \n",
    "    Raises:\n",
    "        UnicodeDecodeError: If the file cannot be decoded with the specified encoding\n",
    "    \"\"\"\n",
    "    try:\n",
    "        with open(file_path, 'r', encoding=encoding) as file:\n",
    "            return file.read()\n",
    "    except UnicodeDecodeError:\n",
    "        # If UTF-8 fails, you could try to detect the encoding or attempt common alternatives\n",
    "        common_encodings = ['latin-1', 'ascii', 'utf-16']\n",
    "        for enc in common_encodings:\n",
    "            try:\n",
    "                with open(file_path, 'r', encoding=enc) as file:\n",
    "                    return file.read()\n",
    "            except UnicodeDecodeError:\n",
    "                continue\n",
    "        raise  # If all attempts fail, raise the original error"
   ]
  },
  {
   "cell_type": "markdown",
   "id": "51863ac6-87e6-40e8-ab22-3998f4ed136d",
   "metadata": {},
   "source": [
    "We'll feed the entire context from the text file to the LLM agent using the `ask_llm_with_context` function that we wrote above. "
   ]
  },
  {
   "cell_type": "code",
   "execution_count": 6,
   "id": "0b6a34ba-c37a-493f-95a6-933fd7a763e0",
   "metadata": {},
   "outputs": [],
   "source": [
    "def ask_llm_from_text_file(system_instruction: str, text_file_path: str, question: str, model: str = \"gpt-3.5-turbo\") -> str:\n",
    "    \"\"\"Ask a question using context from a text file as context.\"\"\"\n",
    "    context = read_text_file(text_file_path)\n",
    "    return ask_llm_with_context(system_instruction, context, question, model)"
   ]
  },
  {
   "cell_type": "markdown",
   "id": "d5597115-a3f6-4159-86a8-05e6452c3ca4",
   "metadata": {},
   "source": [
    "#### Let's test it with Einstein's resume:\n",
    "\n",
    "Albert Einstein's resume is located at `text_files/einstein_resume.txt`"
   ]
  },
  {
   "cell_type": "code",
   "execution_count": 7,
   "id": "595251a4-353b-4a79-a00a-5dacc9b49b6e",
   "metadata": {},
   "outputs": [
    {
     "name": "stdout",
     "output_type": "stream",
     "text": [
      "\n",
      "Q: What's Einstein's email?\n",
      "A: Einstein's email is albert.einstein@eth.zurich.ch.\n",
      "\n",
      "Q: How many publications does Einsetin have?\n",
      "A: Einstein has published over 300 scientific papers.\n",
      "\n",
      "Q: What year did Einstein win his Nobel Prize in and for what?\n",
      "A: Einstein won his Nobel Prize in Physics in 1921 for his contributions to theoretical physics and the discovery of the photoelectric effect.\n",
      "\n",
      "Q: What's the name of Harry Potter's owl?\n",
      "A: I cannot find the answer in the provided context.\n",
      "\n",
      "Q: What did we talk about yesterday?\n",
      "A: I cannot find the answer in the provided context.\n"
     ]
    }
   ],
   "source": [
    "system_instruction = \"\"\"\n",
    "Use the provided context to answer the question. \n",
    "If you cannot find the answer from the provided context, say \"I cannot find the answer in the provided context.\"\n",
    "\"\"\"\n",
    "\n",
    "text_file_path = \"text_files/einstein_resume.txt\"\n",
    "\n",
    "questions = [\n",
    "    \"What's Einstein's email?\",\n",
    "    \"How many publications does Einsetin have?\",\n",
    "    \"What year did Einstein win his Nobel Prize in and for what?\",\n",
    "    \"What's the name of Harry Potter's owl?\", ## out of context\n",
    "    \"What did we talk about yesterday?\" ## out of context\n",
    "]\n",
    "\n",
    "for question in questions:\n",
    "    print(f\"\\nQ: {question}\")\n",
    "    print(f\"A: {ask_llm_from_text_file(system_instruction, text_file_path, question)}\")"
   ]
  },
  {
   "cell_type": "markdown",
   "id": "86b7e212-994f-42c0-b099-66b8e594283a",
   "metadata": {},
   "source": [
    "#### Let's try something more ambitious. We'll feed the entire text of \"The Great Gatsby\" novel, which has 51,257 words, into our agent.  \n",
    "\n",
    "This file is located at `text_files/the_great_gatsby.txt`"
   ]
  },
  {
   "cell_type": "code",
   "execution_count": 8,
   "id": "6b3b0c28-fc7f-477d-a1d2-44223166742f",
   "metadata": {
    "scrolled": true
   },
   "outputs": [
    {
     "name": "stdout",
     "output_type": "stream",
     "text": [
      "\n",
      "Q: How does Nick Carraway's position as both narrator and participant affect his reliability in telling Gatsby's story?\n"
     ]
    },
    {
     "ename": "BadRequestError",
     "evalue": "Error code: 400 - {'error': {'message': \"This model's maximum context length is 16385 tokens. However, your messages resulted in 69576 tokens. Please reduce the length of the messages.\", 'type': 'invalid_request_error', 'param': 'messages', 'code': 'context_length_exceeded'}}",
     "output_type": "error",
     "traceback": [
      "\u001b[0;31m---------------------------------------------------------------------------\u001b[0m",
      "\u001b[0;31mBadRequestError\u001b[0m                           Traceback (most recent call last)",
      "Cell \u001b[0;32mIn[8], line 17\u001b[0m\n\u001b[1;32m     15\u001b[0m \u001b[38;5;28;01mfor\u001b[39;00m question \u001b[38;5;129;01min\u001b[39;00m questions:\n\u001b[1;32m     16\u001b[0m     \u001b[38;5;28mprint\u001b[39m(\u001b[38;5;124mf\u001b[39m\u001b[38;5;124m\"\u001b[39m\u001b[38;5;130;01m\\n\u001b[39;00m\u001b[38;5;124mQ: \u001b[39m\u001b[38;5;132;01m{\u001b[39;00mquestion\u001b[38;5;132;01m}\u001b[39;00m\u001b[38;5;124m\"\u001b[39m)\n\u001b[0;32m---> 17\u001b[0m     \u001b[38;5;28mprint\u001b[39m(\u001b[38;5;124mf\u001b[39m\u001b[38;5;124m\"\u001b[39m\u001b[38;5;124mA: \u001b[39m\u001b[38;5;132;01m{\u001b[39;00m\u001b[43mask_llm_from_text_file\u001b[49m\u001b[43m(\u001b[49m\u001b[43msystem_instruction\u001b[49m\u001b[43m,\u001b[49m\u001b[38;5;250;43m \u001b[39;49m\u001b[43mtext_file_path\u001b[49m\u001b[43m,\u001b[49m\u001b[38;5;250;43m \u001b[39;49m\u001b[43mquestion\u001b[49m\u001b[43m)\u001b[49m\u001b[38;5;132;01m}\u001b[39;00m\u001b[38;5;124m\"\u001b[39m)\n",
      "Cell \u001b[0;32mIn[6], line 4\u001b[0m, in \u001b[0;36mask_llm_from_text_file\u001b[0;34m(system_instruction, text_file_path, question, model)\u001b[0m\n\u001b[1;32m      2\u001b[0m \u001b[38;5;250m\u001b[39m\u001b[38;5;124;03m\"\"\"Ask a question using context from a text file as context.\"\"\"\u001b[39;00m\n\u001b[1;32m      3\u001b[0m context \u001b[38;5;241m=\u001b[39m read_text_file(text_file_path)\n\u001b[0;32m----> 4\u001b[0m \u001b[38;5;28;01mreturn\u001b[39;00m \u001b[43mask_llm_with_context\u001b[49m\u001b[43m(\u001b[49m\u001b[43msystem_instruction\u001b[49m\u001b[43m,\u001b[49m\u001b[43m \u001b[49m\u001b[43mcontext\u001b[49m\u001b[43m,\u001b[49m\u001b[43m \u001b[49m\u001b[43mquestion\u001b[49m\u001b[43m,\u001b[49m\u001b[43m \u001b[49m\u001b[43mmodel\u001b[49m\u001b[43m)\u001b[49m\n",
      "Cell \u001b[0;32mIn[2], line 9\u001b[0m, in \u001b[0;36mask_llm_with_context\u001b[0;34m(system_instruction, context, question, model)\u001b[0m\n\u001b[1;32m      2\u001b[0m \u001b[38;5;250m\u001b[39m\u001b[38;5;124;03m\"\"\"Ask a question with specific context\"\"\"\u001b[39;00m\n\u001b[1;32m      4\u001b[0m question_with_context \u001b[38;5;241m=\u001b[39m \u001b[38;5;124mf\u001b[39m\u001b[38;5;124m\"\"\"\u001b[39m\n\u001b[1;32m      5\u001b[0m \u001b[38;5;124m    Context: \u001b[39m\u001b[38;5;132;01m{\u001b[39;00mcontext\u001b[38;5;132;01m}\u001b[39;00m\u001b[38;5;124m \u001b[39m\n\u001b[1;32m      6\u001b[0m \u001b[38;5;124m    Question: \u001b[39m\u001b[38;5;132;01m{\u001b[39;00mquestion\u001b[38;5;132;01m}\u001b[39;00m\n\u001b[1;32m      7\u001b[0m \u001b[38;5;124m    \u001b[39m\u001b[38;5;124m\"\"\"\u001b[39m\n\u001b[0;32m----> 9\u001b[0m response \u001b[38;5;241m=\u001b[39m \u001b[43mllm\u001b[49m\u001b[38;5;241;43m.\u001b[39;49m\u001b[43mask\u001b[49m\u001b[43m(\u001b[49m\n\u001b[1;32m     10\u001b[0m \u001b[43m    \u001b[49m\u001b[43muser_question\u001b[49m\u001b[38;5;241;43m=\u001b[39;49m\u001b[43mquestion_with_context\u001b[49m\u001b[43m,\u001b[49m\n\u001b[1;32m     11\u001b[0m \u001b[43m    \u001b[49m\u001b[43msystem_message\u001b[49m\u001b[38;5;241;43m=\u001b[39;49m\u001b[43msystem_instruction\u001b[49m\u001b[43m,\u001b[49m\n\u001b[1;32m     12\u001b[0m \u001b[43m    \u001b[49m\u001b[43mmodel\u001b[49m\u001b[38;5;241;43m=\u001b[39;49m\u001b[43mmodel\u001b[49m\n\u001b[1;32m     13\u001b[0m \u001b[43m\u001b[49m\u001b[43m)\u001b[49m\n\u001b[1;32m     14\u001b[0m \u001b[38;5;28;01mreturn\u001b[39;00m response\n",
      "File \u001b[0;32m~/Documents/personal_code/pctopus/pctopus/llm/openai_llm.py:37\u001b[0m, in \u001b[0;36mOpenAILLM.ask\u001b[0;34m(self, user_question, system_message, model)\u001b[0m\n\u001b[1;32m     34\u001b[0m     messages\u001b[38;5;241m.\u001b[39mappend({\u001b[38;5;124m\"\u001b[39m\u001b[38;5;124mrole\u001b[39m\u001b[38;5;124m\"\u001b[39m: \u001b[38;5;124m\"\u001b[39m\u001b[38;5;124msystem\u001b[39m\u001b[38;5;124m\"\u001b[39m, \u001b[38;5;124m\"\u001b[39m\u001b[38;5;124mcontent\u001b[39m\u001b[38;5;124m\"\u001b[39m: system_message})\n\u001b[1;32m     35\u001b[0m messages\u001b[38;5;241m.\u001b[39mappend({\u001b[38;5;124m\"\u001b[39m\u001b[38;5;124mrole\u001b[39m\u001b[38;5;124m\"\u001b[39m: \u001b[38;5;124m\"\u001b[39m\u001b[38;5;124muser\u001b[39m\u001b[38;5;124m\"\u001b[39m, \u001b[38;5;124m\"\u001b[39m\u001b[38;5;124mcontent\u001b[39m\u001b[38;5;124m\"\u001b[39m: user_question})\n\u001b[0;32m---> 37\u001b[0m response \u001b[38;5;241m=\u001b[39m \u001b[38;5;28;43mself\u001b[39;49m\u001b[38;5;241;43m.\u001b[39;49m\u001b[43mclient\u001b[49m\u001b[38;5;241;43m.\u001b[39;49m\u001b[43mchat\u001b[49m\u001b[38;5;241;43m.\u001b[39;49m\u001b[43mcompletions\u001b[49m\u001b[38;5;241;43m.\u001b[39;49m\u001b[43mcreate\u001b[49m\u001b[43m(\u001b[49m\n\u001b[1;32m     38\u001b[0m \u001b[43m    \u001b[49m\u001b[43mmodel\u001b[49m\u001b[38;5;241;43m=\u001b[39;49m\u001b[43mmodel\u001b[49m\u001b[43m,\u001b[49m\n\u001b[1;32m     39\u001b[0m \u001b[43m    \u001b[49m\u001b[43mmessages\u001b[49m\u001b[38;5;241;43m=\u001b[39;49m\u001b[43mmessages\u001b[49m\u001b[43m,\u001b[49m\n\u001b[1;32m     40\u001b[0m \u001b[43m\u001b[49m\u001b[43m)\u001b[49m\n\u001b[1;32m     42\u001b[0m \u001b[38;5;28;01mreturn\u001b[39;00m response\u001b[38;5;241m.\u001b[39mchoices[\u001b[38;5;241m0\u001b[39m]\u001b[38;5;241m.\u001b[39mmessage\u001b[38;5;241m.\u001b[39mcontent\n",
      "File \u001b[0;32m~/miniconda3/envs/pctopus/lib/python3.11/site-packages/openai/_utils/_utils.py:275\u001b[0m, in \u001b[0;36mrequired_args.<locals>.inner.<locals>.wrapper\u001b[0;34m(*args, **kwargs)\u001b[0m\n\u001b[1;32m    273\u001b[0m             msg \u001b[38;5;241m=\u001b[39m \u001b[38;5;124mf\u001b[39m\u001b[38;5;124m\"\u001b[39m\u001b[38;5;124mMissing required argument: \u001b[39m\u001b[38;5;132;01m{\u001b[39;00mquote(missing[\u001b[38;5;241m0\u001b[39m])\u001b[38;5;132;01m}\u001b[39;00m\u001b[38;5;124m\"\u001b[39m\n\u001b[1;32m    274\u001b[0m     \u001b[38;5;28;01mraise\u001b[39;00m \u001b[38;5;167;01mTypeError\u001b[39;00m(msg)\n\u001b[0;32m--> 275\u001b[0m \u001b[38;5;28;01mreturn\u001b[39;00m \u001b[43mfunc\u001b[49m\u001b[43m(\u001b[49m\u001b[38;5;241;43m*\u001b[39;49m\u001b[43margs\u001b[49m\u001b[43m,\u001b[49m\u001b[43m \u001b[49m\u001b[38;5;241;43m*\u001b[39;49m\u001b[38;5;241;43m*\u001b[39;49m\u001b[43mkwargs\u001b[49m\u001b[43m)\u001b[49m\n",
      "File \u001b[0;32m~/miniconda3/envs/pctopus/lib/python3.11/site-packages/openai/resources/chat/completions.py:829\u001b[0m, in \u001b[0;36mCompletions.create\u001b[0;34m(self, messages, model, audio, frequency_penalty, function_call, functions, logit_bias, logprobs, max_completion_tokens, max_tokens, metadata, modalities, n, parallel_tool_calls, prediction, presence_penalty, response_format, seed, service_tier, stop, store, stream, stream_options, temperature, tool_choice, tools, top_logprobs, top_p, user, extra_headers, extra_query, extra_body, timeout)\u001b[0m\n\u001b[1;32m    788\u001b[0m \u001b[38;5;129m@required_args\u001b[39m([\u001b[38;5;124m\"\u001b[39m\u001b[38;5;124mmessages\u001b[39m\u001b[38;5;124m\"\u001b[39m, \u001b[38;5;124m\"\u001b[39m\u001b[38;5;124mmodel\u001b[39m\u001b[38;5;124m\"\u001b[39m], [\u001b[38;5;124m\"\u001b[39m\u001b[38;5;124mmessages\u001b[39m\u001b[38;5;124m\"\u001b[39m, \u001b[38;5;124m\"\u001b[39m\u001b[38;5;124mmodel\u001b[39m\u001b[38;5;124m\"\u001b[39m, \u001b[38;5;124m\"\u001b[39m\u001b[38;5;124mstream\u001b[39m\u001b[38;5;124m\"\u001b[39m])\n\u001b[1;32m    789\u001b[0m \u001b[38;5;28;01mdef\u001b[39;00m \u001b[38;5;21mcreate\u001b[39m(\n\u001b[1;32m    790\u001b[0m     \u001b[38;5;28mself\u001b[39m,\n\u001b[0;32m   (...)\u001b[0m\n\u001b[1;32m    826\u001b[0m     timeout: \u001b[38;5;28mfloat\u001b[39m \u001b[38;5;241m|\u001b[39m httpx\u001b[38;5;241m.\u001b[39mTimeout \u001b[38;5;241m|\u001b[39m \u001b[38;5;28;01mNone\u001b[39;00m \u001b[38;5;241m|\u001b[39m NotGiven \u001b[38;5;241m=\u001b[39m NOT_GIVEN,\n\u001b[1;32m    827\u001b[0m ) \u001b[38;5;241m-\u001b[39m\u001b[38;5;241m>\u001b[39m ChatCompletion \u001b[38;5;241m|\u001b[39m Stream[ChatCompletionChunk]:\n\u001b[1;32m    828\u001b[0m     validate_response_format(response_format)\n\u001b[0;32m--> 829\u001b[0m     \u001b[38;5;28;01mreturn\u001b[39;00m \u001b[38;5;28;43mself\u001b[39;49m\u001b[38;5;241;43m.\u001b[39;49m\u001b[43m_post\u001b[49m\u001b[43m(\u001b[49m\n\u001b[1;32m    830\u001b[0m \u001b[43m        \u001b[49m\u001b[38;5;124;43m\"\u001b[39;49m\u001b[38;5;124;43m/chat/completions\u001b[39;49m\u001b[38;5;124;43m\"\u001b[39;49m\u001b[43m,\u001b[49m\n\u001b[1;32m    831\u001b[0m \u001b[43m        \u001b[49m\u001b[43mbody\u001b[49m\u001b[38;5;241;43m=\u001b[39;49m\u001b[43mmaybe_transform\u001b[49m\u001b[43m(\u001b[49m\n\u001b[1;32m    832\u001b[0m \u001b[43m            \u001b[49m\u001b[43m{\u001b[49m\n\u001b[1;32m    833\u001b[0m \u001b[43m                \u001b[49m\u001b[38;5;124;43m\"\u001b[39;49m\u001b[38;5;124;43mmessages\u001b[39;49m\u001b[38;5;124;43m\"\u001b[39;49m\u001b[43m:\u001b[49m\u001b[43m \u001b[49m\u001b[43mmessages\u001b[49m\u001b[43m,\u001b[49m\n\u001b[1;32m    834\u001b[0m \u001b[43m                \u001b[49m\u001b[38;5;124;43m\"\u001b[39;49m\u001b[38;5;124;43mmodel\u001b[39;49m\u001b[38;5;124;43m\"\u001b[39;49m\u001b[43m:\u001b[49m\u001b[43m \u001b[49m\u001b[43mmodel\u001b[49m\u001b[43m,\u001b[49m\n\u001b[1;32m    835\u001b[0m \u001b[43m                \u001b[49m\u001b[38;5;124;43m\"\u001b[39;49m\u001b[38;5;124;43maudio\u001b[39;49m\u001b[38;5;124;43m\"\u001b[39;49m\u001b[43m:\u001b[49m\u001b[43m \u001b[49m\u001b[43maudio\u001b[49m\u001b[43m,\u001b[49m\n\u001b[1;32m    836\u001b[0m \u001b[43m                \u001b[49m\u001b[38;5;124;43m\"\u001b[39;49m\u001b[38;5;124;43mfrequency_penalty\u001b[39;49m\u001b[38;5;124;43m\"\u001b[39;49m\u001b[43m:\u001b[49m\u001b[43m \u001b[49m\u001b[43mfrequency_penalty\u001b[49m\u001b[43m,\u001b[49m\n\u001b[1;32m    837\u001b[0m \u001b[43m                \u001b[49m\u001b[38;5;124;43m\"\u001b[39;49m\u001b[38;5;124;43mfunction_call\u001b[39;49m\u001b[38;5;124;43m\"\u001b[39;49m\u001b[43m:\u001b[49m\u001b[43m \u001b[49m\u001b[43mfunction_call\u001b[49m\u001b[43m,\u001b[49m\n\u001b[1;32m    838\u001b[0m \u001b[43m                \u001b[49m\u001b[38;5;124;43m\"\u001b[39;49m\u001b[38;5;124;43mfunctions\u001b[39;49m\u001b[38;5;124;43m\"\u001b[39;49m\u001b[43m:\u001b[49m\u001b[43m \u001b[49m\u001b[43mfunctions\u001b[49m\u001b[43m,\u001b[49m\n\u001b[1;32m    839\u001b[0m \u001b[43m                \u001b[49m\u001b[38;5;124;43m\"\u001b[39;49m\u001b[38;5;124;43mlogit_bias\u001b[39;49m\u001b[38;5;124;43m\"\u001b[39;49m\u001b[43m:\u001b[49m\u001b[43m \u001b[49m\u001b[43mlogit_bias\u001b[49m\u001b[43m,\u001b[49m\n\u001b[1;32m    840\u001b[0m \u001b[43m                \u001b[49m\u001b[38;5;124;43m\"\u001b[39;49m\u001b[38;5;124;43mlogprobs\u001b[39;49m\u001b[38;5;124;43m\"\u001b[39;49m\u001b[43m:\u001b[49m\u001b[43m \u001b[49m\u001b[43mlogprobs\u001b[49m\u001b[43m,\u001b[49m\n\u001b[1;32m    841\u001b[0m \u001b[43m                \u001b[49m\u001b[38;5;124;43m\"\u001b[39;49m\u001b[38;5;124;43mmax_completion_tokens\u001b[39;49m\u001b[38;5;124;43m\"\u001b[39;49m\u001b[43m:\u001b[49m\u001b[43m \u001b[49m\u001b[43mmax_completion_tokens\u001b[49m\u001b[43m,\u001b[49m\n\u001b[1;32m    842\u001b[0m \u001b[43m                \u001b[49m\u001b[38;5;124;43m\"\u001b[39;49m\u001b[38;5;124;43mmax_tokens\u001b[39;49m\u001b[38;5;124;43m\"\u001b[39;49m\u001b[43m:\u001b[49m\u001b[43m \u001b[49m\u001b[43mmax_tokens\u001b[49m\u001b[43m,\u001b[49m\n\u001b[1;32m    843\u001b[0m \u001b[43m                \u001b[49m\u001b[38;5;124;43m\"\u001b[39;49m\u001b[38;5;124;43mmetadata\u001b[39;49m\u001b[38;5;124;43m\"\u001b[39;49m\u001b[43m:\u001b[49m\u001b[43m \u001b[49m\u001b[43mmetadata\u001b[49m\u001b[43m,\u001b[49m\n\u001b[1;32m    844\u001b[0m \u001b[43m                \u001b[49m\u001b[38;5;124;43m\"\u001b[39;49m\u001b[38;5;124;43mmodalities\u001b[39;49m\u001b[38;5;124;43m\"\u001b[39;49m\u001b[43m:\u001b[49m\u001b[43m \u001b[49m\u001b[43mmodalities\u001b[49m\u001b[43m,\u001b[49m\n\u001b[1;32m    845\u001b[0m \u001b[43m                \u001b[49m\u001b[38;5;124;43m\"\u001b[39;49m\u001b[38;5;124;43mn\u001b[39;49m\u001b[38;5;124;43m\"\u001b[39;49m\u001b[43m:\u001b[49m\u001b[43m \u001b[49m\u001b[43mn\u001b[49m\u001b[43m,\u001b[49m\n\u001b[1;32m    846\u001b[0m \u001b[43m                \u001b[49m\u001b[38;5;124;43m\"\u001b[39;49m\u001b[38;5;124;43mparallel_tool_calls\u001b[39;49m\u001b[38;5;124;43m\"\u001b[39;49m\u001b[43m:\u001b[49m\u001b[43m \u001b[49m\u001b[43mparallel_tool_calls\u001b[49m\u001b[43m,\u001b[49m\n\u001b[1;32m    847\u001b[0m \u001b[43m                \u001b[49m\u001b[38;5;124;43m\"\u001b[39;49m\u001b[38;5;124;43mprediction\u001b[39;49m\u001b[38;5;124;43m\"\u001b[39;49m\u001b[43m:\u001b[49m\u001b[43m \u001b[49m\u001b[43mprediction\u001b[49m\u001b[43m,\u001b[49m\n\u001b[1;32m    848\u001b[0m \u001b[43m                \u001b[49m\u001b[38;5;124;43m\"\u001b[39;49m\u001b[38;5;124;43mpresence_penalty\u001b[39;49m\u001b[38;5;124;43m\"\u001b[39;49m\u001b[43m:\u001b[49m\u001b[43m \u001b[49m\u001b[43mpresence_penalty\u001b[49m\u001b[43m,\u001b[49m\n\u001b[1;32m    849\u001b[0m \u001b[43m                \u001b[49m\u001b[38;5;124;43m\"\u001b[39;49m\u001b[38;5;124;43mresponse_format\u001b[39;49m\u001b[38;5;124;43m\"\u001b[39;49m\u001b[43m:\u001b[49m\u001b[43m \u001b[49m\u001b[43mresponse_format\u001b[49m\u001b[43m,\u001b[49m\n\u001b[1;32m    850\u001b[0m \u001b[43m                \u001b[49m\u001b[38;5;124;43m\"\u001b[39;49m\u001b[38;5;124;43mseed\u001b[39;49m\u001b[38;5;124;43m\"\u001b[39;49m\u001b[43m:\u001b[49m\u001b[43m \u001b[49m\u001b[43mseed\u001b[49m\u001b[43m,\u001b[49m\n\u001b[1;32m    851\u001b[0m \u001b[43m                \u001b[49m\u001b[38;5;124;43m\"\u001b[39;49m\u001b[38;5;124;43mservice_tier\u001b[39;49m\u001b[38;5;124;43m\"\u001b[39;49m\u001b[43m:\u001b[49m\u001b[43m \u001b[49m\u001b[43mservice_tier\u001b[49m\u001b[43m,\u001b[49m\n\u001b[1;32m    852\u001b[0m \u001b[43m                \u001b[49m\u001b[38;5;124;43m\"\u001b[39;49m\u001b[38;5;124;43mstop\u001b[39;49m\u001b[38;5;124;43m\"\u001b[39;49m\u001b[43m:\u001b[49m\u001b[43m \u001b[49m\u001b[43mstop\u001b[49m\u001b[43m,\u001b[49m\n\u001b[1;32m    853\u001b[0m \u001b[43m                \u001b[49m\u001b[38;5;124;43m\"\u001b[39;49m\u001b[38;5;124;43mstore\u001b[39;49m\u001b[38;5;124;43m\"\u001b[39;49m\u001b[43m:\u001b[49m\u001b[43m \u001b[49m\u001b[43mstore\u001b[49m\u001b[43m,\u001b[49m\n\u001b[1;32m    854\u001b[0m \u001b[43m                \u001b[49m\u001b[38;5;124;43m\"\u001b[39;49m\u001b[38;5;124;43mstream\u001b[39;49m\u001b[38;5;124;43m\"\u001b[39;49m\u001b[43m:\u001b[49m\u001b[43m \u001b[49m\u001b[43mstream\u001b[49m\u001b[43m,\u001b[49m\n\u001b[1;32m    855\u001b[0m \u001b[43m                \u001b[49m\u001b[38;5;124;43m\"\u001b[39;49m\u001b[38;5;124;43mstream_options\u001b[39;49m\u001b[38;5;124;43m\"\u001b[39;49m\u001b[43m:\u001b[49m\u001b[43m \u001b[49m\u001b[43mstream_options\u001b[49m\u001b[43m,\u001b[49m\n\u001b[1;32m    856\u001b[0m \u001b[43m                \u001b[49m\u001b[38;5;124;43m\"\u001b[39;49m\u001b[38;5;124;43mtemperature\u001b[39;49m\u001b[38;5;124;43m\"\u001b[39;49m\u001b[43m:\u001b[49m\u001b[43m \u001b[49m\u001b[43mtemperature\u001b[49m\u001b[43m,\u001b[49m\n\u001b[1;32m    857\u001b[0m \u001b[43m                \u001b[49m\u001b[38;5;124;43m\"\u001b[39;49m\u001b[38;5;124;43mtool_choice\u001b[39;49m\u001b[38;5;124;43m\"\u001b[39;49m\u001b[43m:\u001b[49m\u001b[43m \u001b[49m\u001b[43mtool_choice\u001b[49m\u001b[43m,\u001b[49m\n\u001b[1;32m    858\u001b[0m \u001b[43m                \u001b[49m\u001b[38;5;124;43m\"\u001b[39;49m\u001b[38;5;124;43mtools\u001b[39;49m\u001b[38;5;124;43m\"\u001b[39;49m\u001b[43m:\u001b[49m\u001b[43m \u001b[49m\u001b[43mtools\u001b[49m\u001b[43m,\u001b[49m\n\u001b[1;32m    859\u001b[0m \u001b[43m                \u001b[49m\u001b[38;5;124;43m\"\u001b[39;49m\u001b[38;5;124;43mtop_logprobs\u001b[39;49m\u001b[38;5;124;43m\"\u001b[39;49m\u001b[43m:\u001b[49m\u001b[43m \u001b[49m\u001b[43mtop_logprobs\u001b[49m\u001b[43m,\u001b[49m\n\u001b[1;32m    860\u001b[0m \u001b[43m                \u001b[49m\u001b[38;5;124;43m\"\u001b[39;49m\u001b[38;5;124;43mtop_p\u001b[39;49m\u001b[38;5;124;43m\"\u001b[39;49m\u001b[43m:\u001b[49m\u001b[43m \u001b[49m\u001b[43mtop_p\u001b[49m\u001b[43m,\u001b[49m\n\u001b[1;32m    861\u001b[0m \u001b[43m                \u001b[49m\u001b[38;5;124;43m\"\u001b[39;49m\u001b[38;5;124;43muser\u001b[39;49m\u001b[38;5;124;43m\"\u001b[39;49m\u001b[43m:\u001b[49m\u001b[43m \u001b[49m\u001b[43muser\u001b[49m\u001b[43m,\u001b[49m\n\u001b[1;32m    862\u001b[0m \u001b[43m            \u001b[49m\u001b[43m}\u001b[49m\u001b[43m,\u001b[49m\n\u001b[1;32m    863\u001b[0m \u001b[43m            \u001b[49m\u001b[43mcompletion_create_params\u001b[49m\u001b[38;5;241;43m.\u001b[39;49m\u001b[43mCompletionCreateParams\u001b[49m\u001b[43m,\u001b[49m\n\u001b[1;32m    864\u001b[0m \u001b[43m        \u001b[49m\u001b[43m)\u001b[49m\u001b[43m,\u001b[49m\n\u001b[1;32m    865\u001b[0m \u001b[43m        \u001b[49m\u001b[43moptions\u001b[49m\u001b[38;5;241;43m=\u001b[39;49m\u001b[43mmake_request_options\u001b[49m\u001b[43m(\u001b[49m\n\u001b[1;32m    866\u001b[0m \u001b[43m            \u001b[49m\u001b[43mextra_headers\u001b[49m\u001b[38;5;241;43m=\u001b[39;49m\u001b[43mextra_headers\u001b[49m\u001b[43m,\u001b[49m\u001b[43m \u001b[49m\u001b[43mextra_query\u001b[49m\u001b[38;5;241;43m=\u001b[39;49m\u001b[43mextra_query\u001b[49m\u001b[43m,\u001b[49m\u001b[43m \u001b[49m\u001b[43mextra_body\u001b[49m\u001b[38;5;241;43m=\u001b[39;49m\u001b[43mextra_body\u001b[49m\u001b[43m,\u001b[49m\u001b[43m \u001b[49m\u001b[43mtimeout\u001b[49m\u001b[38;5;241;43m=\u001b[39;49m\u001b[43mtimeout\u001b[49m\n\u001b[1;32m    867\u001b[0m \u001b[43m        \u001b[49m\u001b[43m)\u001b[49m\u001b[43m,\u001b[49m\n\u001b[1;32m    868\u001b[0m \u001b[43m        \u001b[49m\u001b[43mcast_to\u001b[49m\u001b[38;5;241;43m=\u001b[39;49m\u001b[43mChatCompletion\u001b[49m\u001b[43m,\u001b[49m\n\u001b[1;32m    869\u001b[0m \u001b[43m        \u001b[49m\u001b[43mstream\u001b[49m\u001b[38;5;241;43m=\u001b[39;49m\u001b[43mstream\u001b[49m\u001b[43m \u001b[49m\u001b[38;5;129;43;01mor\u001b[39;49;00m\u001b[43m \u001b[49m\u001b[38;5;28;43;01mFalse\u001b[39;49;00m\u001b[43m,\u001b[49m\n\u001b[1;32m    870\u001b[0m \u001b[43m        \u001b[49m\u001b[43mstream_cls\u001b[49m\u001b[38;5;241;43m=\u001b[39;49m\u001b[43mStream\u001b[49m\u001b[43m[\u001b[49m\u001b[43mChatCompletionChunk\u001b[49m\u001b[43m]\u001b[49m\u001b[43m,\u001b[49m\n\u001b[1;32m    871\u001b[0m \u001b[43m    \u001b[49m\u001b[43m)\u001b[49m\n",
      "File \u001b[0;32m~/miniconda3/envs/pctopus/lib/python3.11/site-packages/openai/_base_client.py:1280\u001b[0m, in \u001b[0;36mSyncAPIClient.post\u001b[0;34m(self, path, cast_to, body, options, files, stream, stream_cls)\u001b[0m\n\u001b[1;32m   1266\u001b[0m \u001b[38;5;28;01mdef\u001b[39;00m \u001b[38;5;21mpost\u001b[39m(\n\u001b[1;32m   1267\u001b[0m     \u001b[38;5;28mself\u001b[39m,\n\u001b[1;32m   1268\u001b[0m     path: \u001b[38;5;28mstr\u001b[39m,\n\u001b[0;32m   (...)\u001b[0m\n\u001b[1;32m   1275\u001b[0m     stream_cls: \u001b[38;5;28mtype\u001b[39m[_StreamT] \u001b[38;5;241m|\u001b[39m \u001b[38;5;28;01mNone\u001b[39;00m \u001b[38;5;241m=\u001b[39m \u001b[38;5;28;01mNone\u001b[39;00m,\n\u001b[1;32m   1276\u001b[0m ) \u001b[38;5;241m-\u001b[39m\u001b[38;5;241m>\u001b[39m ResponseT \u001b[38;5;241m|\u001b[39m _StreamT:\n\u001b[1;32m   1277\u001b[0m     opts \u001b[38;5;241m=\u001b[39m FinalRequestOptions\u001b[38;5;241m.\u001b[39mconstruct(\n\u001b[1;32m   1278\u001b[0m         method\u001b[38;5;241m=\u001b[39m\u001b[38;5;124m\"\u001b[39m\u001b[38;5;124mpost\u001b[39m\u001b[38;5;124m\"\u001b[39m, url\u001b[38;5;241m=\u001b[39mpath, json_data\u001b[38;5;241m=\u001b[39mbody, files\u001b[38;5;241m=\u001b[39mto_httpx_files(files), \u001b[38;5;241m*\u001b[39m\u001b[38;5;241m*\u001b[39moptions\n\u001b[1;32m   1279\u001b[0m     )\n\u001b[0;32m-> 1280\u001b[0m     \u001b[38;5;28;01mreturn\u001b[39;00m cast(ResponseT, \u001b[38;5;28;43mself\u001b[39;49m\u001b[38;5;241;43m.\u001b[39;49m\u001b[43mrequest\u001b[49m\u001b[43m(\u001b[49m\u001b[43mcast_to\u001b[49m\u001b[43m,\u001b[49m\u001b[43m \u001b[49m\u001b[43mopts\u001b[49m\u001b[43m,\u001b[49m\u001b[43m \u001b[49m\u001b[43mstream\u001b[49m\u001b[38;5;241;43m=\u001b[39;49m\u001b[43mstream\u001b[49m\u001b[43m,\u001b[49m\u001b[43m \u001b[49m\u001b[43mstream_cls\u001b[49m\u001b[38;5;241;43m=\u001b[39;49m\u001b[43mstream_cls\u001b[49m\u001b[43m)\u001b[49m)\n",
      "File \u001b[0;32m~/miniconda3/envs/pctopus/lib/python3.11/site-packages/openai/_base_client.py:957\u001b[0m, in \u001b[0;36mSyncAPIClient.request\u001b[0;34m(self, cast_to, options, remaining_retries, stream, stream_cls)\u001b[0m\n\u001b[1;32m    954\u001b[0m \u001b[38;5;28;01melse\u001b[39;00m:\n\u001b[1;32m    955\u001b[0m     retries_taken \u001b[38;5;241m=\u001b[39m \u001b[38;5;241m0\u001b[39m\n\u001b[0;32m--> 957\u001b[0m \u001b[38;5;28;01mreturn\u001b[39;00m \u001b[38;5;28;43mself\u001b[39;49m\u001b[38;5;241;43m.\u001b[39;49m\u001b[43m_request\u001b[49m\u001b[43m(\u001b[49m\n\u001b[1;32m    958\u001b[0m \u001b[43m    \u001b[49m\u001b[43mcast_to\u001b[49m\u001b[38;5;241;43m=\u001b[39;49m\u001b[43mcast_to\u001b[49m\u001b[43m,\u001b[49m\n\u001b[1;32m    959\u001b[0m \u001b[43m    \u001b[49m\u001b[43moptions\u001b[49m\u001b[38;5;241;43m=\u001b[39;49m\u001b[43moptions\u001b[49m\u001b[43m,\u001b[49m\n\u001b[1;32m    960\u001b[0m \u001b[43m    \u001b[49m\u001b[43mstream\u001b[49m\u001b[38;5;241;43m=\u001b[39;49m\u001b[43mstream\u001b[49m\u001b[43m,\u001b[49m\n\u001b[1;32m    961\u001b[0m \u001b[43m    \u001b[49m\u001b[43mstream_cls\u001b[49m\u001b[38;5;241;43m=\u001b[39;49m\u001b[43mstream_cls\u001b[49m\u001b[43m,\u001b[49m\n\u001b[1;32m    962\u001b[0m \u001b[43m    \u001b[49m\u001b[43mretries_taken\u001b[49m\u001b[38;5;241;43m=\u001b[39;49m\u001b[43mretries_taken\u001b[49m\u001b[43m,\u001b[49m\n\u001b[1;32m    963\u001b[0m \u001b[43m\u001b[49m\u001b[43m)\u001b[49m\n",
      "File \u001b[0;32m~/miniconda3/envs/pctopus/lib/python3.11/site-packages/openai/_base_client.py:1061\u001b[0m, in \u001b[0;36mSyncAPIClient._request\u001b[0;34m(self, cast_to, options, retries_taken, stream, stream_cls)\u001b[0m\n\u001b[1;32m   1058\u001b[0m         err\u001b[38;5;241m.\u001b[39mresponse\u001b[38;5;241m.\u001b[39mread()\n\u001b[1;32m   1060\u001b[0m     log\u001b[38;5;241m.\u001b[39mdebug(\u001b[38;5;124m\"\u001b[39m\u001b[38;5;124mRe-raising status error\u001b[39m\u001b[38;5;124m\"\u001b[39m)\n\u001b[0;32m-> 1061\u001b[0m     \u001b[38;5;28;01mraise\u001b[39;00m \u001b[38;5;28mself\u001b[39m\u001b[38;5;241m.\u001b[39m_make_status_error_from_response(err\u001b[38;5;241m.\u001b[39mresponse) \u001b[38;5;28;01mfrom\u001b[39;00m \u001b[38;5;28;01mNone\u001b[39;00m\n\u001b[1;32m   1063\u001b[0m \u001b[38;5;28;01mreturn\u001b[39;00m \u001b[38;5;28mself\u001b[39m\u001b[38;5;241m.\u001b[39m_process_response(\n\u001b[1;32m   1064\u001b[0m     cast_to\u001b[38;5;241m=\u001b[39mcast_to,\n\u001b[1;32m   1065\u001b[0m     options\u001b[38;5;241m=\u001b[39moptions,\n\u001b[0;32m   (...)\u001b[0m\n\u001b[1;32m   1069\u001b[0m     retries_taken\u001b[38;5;241m=\u001b[39mretries_taken,\n\u001b[1;32m   1070\u001b[0m )\n",
      "\u001b[0;31mBadRequestError\u001b[0m: Error code: 400 - {'error': {'message': \"This model's maximum context length is 16385 tokens. However, your messages resulted in 69576 tokens. Please reduce the length of the messages.\", 'type': 'invalid_request_error', 'param': 'messages', 'code': 'context_length_exceeded'}}"
     ]
    }
   ],
   "source": [
    "system_instruction = \"\"\"\n",
    "Use the provided context to answer the question. \n",
    "If you cannot find the answer from the provided context, say \"I cannot find the answer in the provided context.\"\n",
    "\"\"\"\n",
    "\n",
    "text_file_path = \"text_files/the_great_gatsby.txt\"\n",
    "\n",
    "questions = [\n",
    "    \"How does Nick Carraway's position as both narrator and participant affect his reliability in telling Gatsby's story?\",\n",
    "    \"What role does the green light at the end of Daisy's dock play in symbolizing Gatsby's dreams and desires?\",\n",
    "    \"What's the name of Harry Potter's owl?\", ## out of context\n",
    "    \"What did we talk about yesterday?\" ## out of context\n",
    "]\n",
    "\n",
    "for question in questions:\n",
    "    print(f\"\\nQ: {question}\")\n",
    "    print(f\"A: {ask_llm_from_text_file(system_instruction, text_file_path, question)}\")"
   ]
  },
  {
   "cell_type": "markdown",
   "id": "9d17872d-cc32-4f62-b36e-20580bae8578",
   "metadata": {},
   "source": [
    "### Uh-oh! Seems like our agent has hit a wall! 🤖💥"
   ]
  },
  {
   "cell_type": "markdown",
   "id": "0d2d2b75-3881-46cb-abf4-707672ec8d45",
   "metadata": {},
   "source": [
    "If you look at the error message, it says `This model's maximum context length is 16385 tokens. However, your messages resulted in 69576 tokens. Please reduce the length of the messages.` Let's dive deeper into why this happened. "
   ]
  },
  {
   "cell_type": "markdown",
   "id": "3ea5b7fa-781c-45ae-9422-257206a9d101",
   "metadata": {},
   "source": [
    "## The Great Token Mystery: Understanding Tokens and Context Windows 🔍"
   ]
  },
  {
   "cell_type": "markdown",
   "id": "f423f368-6077-4ae4-8abf-9955b6d2d2f5",
   "metadata": {},
   "source": [
    "### What are Tokens? "
   ]
  },
  {
   "cell_type": "markdown",
   "id": "1e427cd0-b5ce-4f61-a467-b9f14780ce06",
   "metadata": {},
   "source": [
    "If you remember, we breifly introduced **tokens** in Chapter 1 as the **building blocks of language that the LLM processes**. Let's revisit this concept now. \n",
    "\n",
    "Think of tokens as the LLM's \"thought chunks\" - they're the bite-sized pieces it uses to process text. Just like how we humans break down sentences into words, LLMs break down text into tokens. However, tokens don't map one-to-one with words - they can be:\n",
    "\n",
    "- Multiple words combined (\"New York\", \"thank you\")\n",
    "- Common single words (\"the\", \"and\")\n",
    "- Parts of words (\"ing\", \"ed\", \"pre\")\n",
    "- Characters (especially for uncommon words)\n",
    "- Special characters and spaces\n",
    "\n",
    "This flexible tokenization helps the model be more efficient. For example, common phrases like \"thank you\" or \"of course\" might be single tokens because they appear together so frequently. Meanwhile, rare words like \"discombobulated\" might be split into several tokens (\"dis\", \"comb\", \"ob\", \"ulated\").\n",
    "\n",
    "For example, let's see how a simple sentence gets broken down into tokens:"
   ]
  },
  {
   "cell_type": "code",
   "execution_count": 9,
   "id": "0855d395-7112-44f4-bc01-c233a4bb1a3b",
   "metadata": {},
   "outputs": [
    {
     "name": "stdout",
     "output_type": "stream",
     "text": [
      "\n",
      "==================================================\n",
      "Text: Hello, world!\n",
      "Token count: 4\n",
      "Tokens: [b'Hello', b',', b' world', b'!']\n",
      "\n",
      "==================================================\n",
      "Text: New York City\n",
      "Token count: 3\n",
      "Tokens: [b'New', b' York', b' City']\n",
      "\n",
      "==================================================\n",
      "Text: thank you very much\n",
      "Token count: 4\n",
      "Tokens: [b'thank', b' you', b' very', b' much']\n",
      "\n",
      "==================================================\n",
      "Text: discombobulated\n",
      "Token count: 4\n",
      "Tokens: [b'dis', b'comb', b'ob', b'ulated']\n",
      "\n",
      "==================================================\n",
      "Text: OpenAI's GPT-4 😊\n",
      "Token count: 9\n",
      "Tokens: [b'Open', b'AI', b\"'s\", b' G', b'PT', b'-', b'4', b' \\xf0\\x9f\\x98', b'\\x8a']\n"
     ]
    }
   ],
   "source": [
    "import tiktoken\n",
    "\n",
    "def show_tokenization(text: str, model: str = \"gpt-3.5-turbo\") -> None:\n",
    "    \"\"\"Show how text gets split into tokens\"\"\"\n",
    "    encoding = tiktoken.encoding_for_model(model)\n",
    "    tokens = encoding.encode(text)\n",
    "    \n",
    "    # Decode each token individually to see the splits\n",
    "    token_texts = [encoding.decode_single_token_bytes(token) for token in tokens]\n",
    "    \n",
    "    print(f\"Text: {text}\")\n",
    "    print(f\"Token count: {len(tokens)}\")\n",
    "    print(\"Tokens:\", token_texts)\n",
    "\n",
    "# Let's try some examples\n",
    "examples = [\n",
    "    \"Hello, world!\",\n",
    "    \"New York City\",  # Notice how city names might be tokenized\n",
    "    \"thank you very much\",  # Common phrases\n",
    "    \"discombobulated\",  # Uncommon word\n",
    "    \"OpenAI's GPT-4 😊\"  # Notice how it handles special characters\n",
    "]\n",
    "\n",
    "for text in examples:\n",
    "    print(\"\\n\" + \"=\"*50)\n",
    "    show_tokenization(text)"
   ]
  },
  {
   "cell_type": "markdown",
   "id": "25455551-5799-4b0d-b505-cb1afc7d1510",
   "metadata": {},
   "source": [
    "### Different Models, Different Tokenizers 🔄"
   ]
  },
  {
   "cell_type": "markdown",
   "id": "2b65db30-5c1d-4517-80ad-9aa298894b15",
   "metadata": {},
   "source": [
    "Each LLM family typically comes with its own tokenizer - the tool that breaks text into tokens. This means the same text might be split very differently depending on which model you're using:\n",
    "\n",
    "\n",
    "#### GPT-2 Tokenizer (\"gpt2\")\n",
    "- Basic tokenization approach\n",
    "- Limited emoji support\n",
    "- Vocabulary size: ~50k tokens\n",
    "- Primarily focused on English text\n",
    "\n",
    "#### GPT-3.5/GPT-4 Tokenizer (\"cl100k_base\")\n",
    "- Optimized for modern internet text\n",
    "- Strong handling of code and technical content\n",
    "- Good emoji support\n",
    "- Vocabulary size: ~100k tokens\n",
    "- Improved efficiency in token usage\n",
    "\n",
    "#### GPT-4 Optimized Tokenizer (\"o200k_base\")\n",
    "- Significantly larger vocabulary (~200k tokens)\n",
    "- Enhanced multilingual support\n",
    "- More efficient tokenization for non-English words\n",
    "- Particularly improved performance for:\n",
    "  - Russian\n",
    "  - Korean\n",
    "  - Vietnamese\n",
    "  - Chinese\n",
    "  - Japanese\n",
    "  - Turkish\n",
    "\n",
    "These differences matter because:\n",
    "\n",
    "1. The same text will use different numbers of tokens in different models\n",
    "2. Cost calculations vary (since you pay per token)\n",
    "3. Context window limits affect different amounts of text\n",
    "4. Some models handle certain content types better\n",
    "\n",
    "Let's see these differences in action:"
   ]
  },
  {
   "cell_type": "code",
   "execution_count": 10,
   "id": "1fa307d4-f17b-4f1a-8f6d-56b4043a2d8d",
   "metadata": {},
   "outputs": [
    {
     "name": "stdout",
     "output_type": "stream",
     "text": [
      "🔍 Comparing different tokenizers:\n",
      "==================================================\n",
      "\n",
      "📝 Test case: Common Phrase\n",
      "\n",
      "GPT-2 tokenization of 'thank you':\n",
      "Token count: 2\n",
      "Tokens: [b'thank', b' you']\n",
      "\n",
      "GPT-3.5 tokenization of 'thank you':\n",
      "Token count: 2\n",
      "Tokens: [b'thank', b' you']\n",
      "\n",
      "Token count comparison:\n",
      "         Token Count\n",
      "GPT-2              2\n",
      "GPT-3.5            2\n",
      "==================================================\n",
      "\n",
      "📝 Test case: Non-English\n",
      "\n",
      "GPT-2 tokenization of 'こんにちは':\n",
      "Token count: 6\n",
      "Tokens: [b'\\xe3\\x81\\x93', b'\\xe3\\x82\\x93', b'\\xe3\\x81\\xab', b'\\xe3\\x81', b'\\xa1', b'\\xe3\\x81\\xaf']\n",
      "\n",
      "GPT-3.5 tokenization of 'こんにちは':\n",
      "Token count: 1\n",
      "Tokens: [b'\\xe3\\x81\\x93\\xe3\\x82\\x93\\xe3\\x81\\xab\\xe3\\x81\\xa1\\xe3\\x81\\xaf']\n",
      "\n",
      "Token count comparison:\n",
      "         Token Count\n",
      "GPT-2              6\n",
      "GPT-3.5            1\n",
      "==================================================\n"
     ]
    }
   ],
   "source": [
    "import tiktoken\n",
    "import pandas as pd\n",
    "from typing import Dict\n",
    "\n",
    "def compare_tokenizers(text: str) -> Dict[str, int]:\n",
    "    \"\"\"Compare how different tokenizers process the same text.\"\"\"\n",
    "    # Define models with different tokenizers\n",
    "    models = {\n",
    "        \"GPT-2\": \"gpt2\",\n",
    "        \"GPT-3.5\": \"gpt-3.5-turbo\",  # Uses cl100k_base\n",
    "    }\n",
    "    \n",
    "    # Count tokens for each model\n",
    "    results = {}\n",
    "    for name, model in models.items():\n",
    "        encoding = tiktoken.encoding_for_model(model)\n",
    "        tokens = encoding.encode(text)\n",
    "        results[name] = len(tokens)\n",
    "        \n",
    "        # Show the actual tokens for analysis\n",
    "        token_texts = [encoding.decode_single_token_bytes(token) for token in tokens]\n",
    "        print(f\"\\n{name} tokenization of '{text}':\")\n",
    "        print(f\"Token count: {len(tokens)}\")\n",
    "        print(\"Tokens:\", token_texts)\n",
    "        \n",
    "    return results\n",
    "\n",
    "# Test cases demonstrating key differences\n",
    "test_cases = {\n",
    "    \"Common Phrase\": \"thank you\",\n",
    "    \"Non-English\": \"こんにちは\",  # Japanese\n",
    "}\n",
    "\n",
    "print(\"🔍 Comparing different tokenizers:\")\n",
    "print(\"=\" * 50)\n",
    "\n",
    "# Run comparison for each test case\n",
    "for case_name, text in test_cases.items():\n",
    "    print(f\"\\n📝 Test case: {case_name}\")\n",
    "    results = compare_tokenizers(text)\n",
    "    \n",
    "    # Show token count differences\n",
    "    df = pd.DataFrame([results]).T\n",
    "    df.columns = ['Token Count']\n",
    "    print(\"\\nToken count comparison:\")\n",
    "    print(df)\n",
    "    print(\"=\" * 50)"
   ]
  },
  {
   "cell_type": "markdown",
   "id": "ed903c08-a196-45ab-ab61-8e91f7e4989f",
   "metadata": {},
   "source": [
    "### Context Windows: The LLM's Working Memory 🪟\n",
    "\n",
    "The context window is like the LLM's working memory - it's the maximum amount of tokens that the model can \"think about\" at once. This includes:\n",
    "\n",
    "- The system message (instructions we give)\n",
    "- The context (like our document text)\n",
    "- The user's question\n",
    "- The LLM's response\n",
    "\n",
    "Different models have different context window sizes:\n",
    "\n",
    "| Model | Context Window | \n",
    "|:--|:--|\n",
    "| GPT-3.5-Turbo | 16,385 tokens |\n",
    "| GPT-4o-mini | 128,000 tokens | \n",
    "| GPT-4o | 128,000 tokens |"
   ]
  },
  {
   "cell_type": "markdown",
   "id": "1b923d99-b79a-4ac2-a723-c12bb40bfdfb",
   "metadata": {},
   "source": [
    "## Understanding Why The Great Gatsby Example Failed 🔍"
   ]
  },
  {
   "cell_type": "markdown",
   "id": "361a781a-c5db-4346-acc2-af12d1f9e819",
   "metadata": {},
   "source": [
    "Remember how our attempt to analyze The Great Gatsby failed with an error about exceeding the context window? Now that we understand tokens and context windows, let's break down exactly what happened.\n",
    "\n",
    "Let's calculate the tokens we were trying to use:"
   ]
  },
  {
   "cell_type": "code",
   "execution_count": 11,
   "id": "262df80b-a432-40b5-bb43-ba5deb01cb2e",
   "metadata": {},
   "outputs": [
    {
     "name": "stdout",
     "output_type": "stream",
     "text": [
      "Tokens in the Great Gatsby text: 69,499 tokens\n"
     ]
    }
   ],
   "source": [
    "def count_tokens(text: str, model: str = \"gpt-3.5-turbo\") -> int:\n",
    "    \"\"\"Count tokens for a given text using specified model's tokenizer\"\"\"\n",
    "    encoding = tiktoken.encoding_for_model(model)\n",
    "    return len(encoding.encode(text))\n",
    "\n",
    "gatsby_text = read_text_file(\"text_files/the_great_gatsby.txt\")\n",
    "gatsby_tokens = count_tokens(gatsby_text)\n",
    "\n",
    "print(f\"Tokens in the Great Gatsby text: {gatsby_tokens:,} tokens\")"
   ]
  },
  {
   "cell_type": "markdown",
   "id": "cc10e2fb-f0c0-477a-9f5c-87df9b374020",
   "metadata": {},
   "source": [
    "Remember, **GPT-3.5-turbo** has a context window of **16,385 tokens**. Just The Great Gatsby alone uses about **69,499 tokens!** That's not even including the system instructions and the user question. That's why we got the error message. It's like trying to fit an entire novel into a small notepad."
   ]
  },
  {
   "cell_type": "markdown",
   "id": "dc8bd2ef-2c63-4d78-8189-443e327fe38a",
   "metadata": {},
   "source": [
    "### Let's Fix It: Using GPT-4o-mini 🛠️\n",
    "\n",
    "GPT-4-mini has a much larger context window of 128,000 tokens. Let's modify our code to use it instead:"
   ]
  },
  {
   "cell_type": "code",
   "execution_count": 14,
   "id": "6d61841b-0108-4f83-aca1-30030daee791",
   "metadata": {},
   "outputs": [
    {
     "name": "stdout",
     "output_type": "stream",
     "text": [
      "\n",
      "Q: How does Nick Carraway's position as both narrator and participant affect his reliability in telling Gatsby's story?\n",
      "A: Nick Carraway's position as both narrator and participant in \"The Great Gatsby\" significantly impacts his reliability in conveying Gatsby's story. As a first-person narrator, Nick offers a personal perspective that creates intimacy and depth in the narrative. However, his involvement in the events he recounts can lead to biases and subjective interpretations.\n",
      "\n",
      "1. **Subjective Experience**: Nick's personal experiences and feelings influence how he perceives Gatsby and the other characters. For instance, his admiration for Gatsby leads him to present Gatsby in a more sympathetic light, often glossing over his dubious actions and associations. This admiration might skew Nick's portrayal, prompting readers to question the objectivity of his narrative.\n",
      "\n",
      "2. **Limited Knowledge**: While Nick is a participant in the story, he does not know everything about Gatsby or the other characters. Much of what he narrates is based on hearsay, his limited observations, and the perceptions of others. This means that important facets of Gatsby's life might remain undisclosed or be misinterpreted, thus affecting the accuracy of Nick's account.\n",
      "\n",
      "3. **Emotional Investment**: As a character invested in the relationships and the events unfolding around him, particularly his connection to Daisy and Gatsby, Nick might not always present events dispassionately. His emotional state can influence how he interprets the actions and motivations of the characters, leading to potential misrepresentation.\n",
      "\n",
      "4. **Selective Storytelling**: Nick’s choice of what to include and exclude in his narration shapes the narrative. He often reflects on his feelings about the events, infusing the story with his perspective rather than an impartial recounting. His reflections sometimes serve to elevate Gatsby’s grandeur and the tragedy of his dream, emphasizing the themes of idealism and disillusionment.\n",
      "\n",
      "5. **Reflection of Morality**: Nick’s attempts to maintain a moral compass amidst the moral decay he observes in others adds another layer of reliability issues. His own judgments and evaluations both bolster and undermine his objectivity, creating a narrative that can be read as both honest and flawed. \n",
      "\n",
      "Ultimately, Nick's dual role allows him to present an intricate and nuanced exploration of Gatsby's character and the world they inhabit. However, it also invites readers to critically assess the veracity of his account, reminding them that personal perspectives can shape and sometimes distort reality.\n",
      "\n",
      "Q: What role does the green light at the end of Daisy's dock play in symbolizing Gatsby's dreams and desires?\n",
      "A: The green light at the end of Daisy's dock symbolizes Gatsby's dreams and desires, particularly his aspiration for a future with Daisy. It represents hope, possibility, and the pursuit of the American Dream. Throughout the novel, Gatsby gazes at this light, viewing it as a distant objective that embodies his longing for love and acceptance. \n",
      "\n",
      "Initially, the green light is a beacon of hope for Gatsby, who associates it with Daisy and the life he wishes to attain with her. It signifies the idealized version of Daisy he keeps in his mind, an embodiment of his dreams and the belief that he can recreate the past. However, as the story unfolds, the green light also becomes a symbol of the unattainable nature of those dreams. Despite Gatsby's immense wealth and efforts, the reality of his relationship with Daisy is complex and ultimately fraught with obstacles—including her marriage to Tom Buchanan. \n",
      "\n",
      "By the end of the novel, when Gatsby realizes that he cannot achieve his dream, the green light takes on a different meaning; it becomes a reminder of the unattainable nature of his aspirations and the disillusionment that accompanies them. The light, once full of promise, symbolizes the idea that some dreams are forever out of reach, echoing the larger themes of ambition and the fleeting nature of the American Dream.\n",
      "\n",
      "Q: What's the name of Harry Potter's owl?\n",
      "A: I cannot find the answer in the provided context.\n",
      "\n",
      "Q: What did we talk about yesterday?\n",
      "A: I cannot find the answer in the provided context.\n"
     ]
    }
   ],
   "source": [
    "system_instruction = \"\"\"\n",
    "Use the provided context to answer the question. \n",
    "If you cannot find the answer from the provided context, say \"I cannot find the answer in the provided context.\"\n",
    "\"\"\"\n",
    "\n",
    "text_file_path = \"text_files/the_great_gatsby.txt\"\n",
    "\n",
    "questions = [\n",
    "    \"How does Nick Carraway's position as both narrator and participant affect his reliability in telling Gatsby's story?\",\n",
    "    \"What role does the green light at the end of Daisy's dock play in symbolizing Gatsby's dreams and desires?\",\n",
    "    \"What's the name of Harry Potter's owl?\", ## out of context\n",
    "    \"What did we talk about yesterday?\" ## out of context\n",
    "]\n",
    "\n",
    "for question in questions:\n",
    "    print(f\"\\nQ: {question}\")\n",
    "    print(f\"A: {ask_llm_from_text_file(system_instruction, text_file_path, question, model='gpt-4o-mini')}\")"
   ]
  },
  {
   "cell_type": "markdown",
   "id": "f3755034-accb-4c83-a40e-30fec57e64f9",
   "metadata": {},
   "source": [
    "## The Cost of Large Contexts: Measuring Latency 📊"
   ]
  },
  {
   "cell_type": "markdown",
   "id": "6a0587a4-cfbb-4326-8b5a-2b22d1f39c7d",
   "metadata": {},
   "source": [
    "You might have noticed that running the previous code might have taken some time before you got a response back. That's because typically, **the more context we feed into an LLM, the longer it takes to process.** \n",
    "\n",
    "Let's measure the response time of an LLM for different text length to prove this:"
   ]
  },
  {
   "cell_type": "code",
   "execution_count": 28,
   "id": "4fdbd917-5d65-418f-b5c3-dcb23f762361",
   "metadata": {},
   "outputs": [
    {
     "data": {
      "image/png": "[encoded data removed]",
      "text/plain": [
       "<Figure size 1200x600 with 1 Axes>"
      ]
     },
     "metadata": {},
     "output_type": "display_data"
    }
   ],
   "source": [
    "import time\n",
    "import tiktoken\n",
    "import matplotlib.pyplot as plt\n",
    "\n",
    "def generate_text_with_token_count(target_token_count: int) -> str:\n",
    "    \"\"\"Generate text with approximately the specified number of tokens\"\"\"\n",
    "    # Initialize tokenizer\n",
    "    tokenizer = tiktoken.encoding_for_model(\"gpt-4o-mini\")\n",
    "    \n",
    "    # Base text that we'll repeat\n",
    "    base_text = \"This is a sample text for testing language model response times. \"\n",
    "    base_tokens = len(tokenizer.encode(base_text))\n",
    "    \n",
    "    # Calculate how many repetitions we need\n",
    "    repetitions = target_token_count // base_tokens\n",
    "    \n",
    "    # Generate the text\n",
    "    context = base_text * repetitions\n",
    "    \n",
    "    # Fine-tune to get closer to target token count\n",
    "    current_tokens = len(tokenizer.encode(context))\n",
    "    while current_tokens < target_token_count:\n",
    "        context += \"Additional text. \"\n",
    "        current_tokens = len(tokenizer.encode(context))\n",
    "    \n",
    "    return context\n",
    "\n",
    "def measure_response_time(token_count: int, model: str) -> float:\n",
    "    \"\"\"Measure response time for different token counts\"\"\"\n",
    "    # Generate context with specified token count\n",
    "    context = generate_text_with_token_count(token_count)\n",
    "    \n",
    "    start_time = time.time()\n",
    "    response = ask_llm_with_context(\n",
    "        system_instruction=\"Summarize the text\",\n",
    "        context=context,\n",
    "        question=\"\",\n",
    "        model=model\n",
    "    )\n",
    "    end_time = time.time()\n",
    "    \n",
    "    return end_time - start_time\n",
    "\n",
    "# Test different token counts\n",
    "token_counts = [50000, 25000, 5000]\n",
    "response_times_4 = []\n",
    "\n",
    "for count in token_counts:\n",
    "    time_4 = measure_response_time(count, \"gpt-4o-mini\")\n",
    "    response_times_4.append(time_4)\n",
    "\n",
    "# Create visualization\n",
    "plt.figure(figsize=(12, 6))\n",
    "plt.plot(token_counts, response_times_4, marker='o', label='GPT-4o-mini')\n",
    "plt.xlabel('Token Count')\n",
    "plt.ylabel('Response Time (seconds)')\n",
    "plt.title('Impact of Token Count on Response Time')\n",
    "plt.legend()\n",
    "plt.grid(True)\n",
    "plt.show()"
   ]
  },
  {
   "cell_type": "markdown",
   "id": "89b660d7-cba8-4a88-bdd5-bd9254ff92e7",
   "metadata": {},
   "source": [
    "As you can see from the graph, there's a clear correlation between context size and response time. The larger the context, the longer we have to wait for an answer."
   ]
  },
  {
   "cell_type": "markdown",
   "id": "c6ce5de5-0530-4b9c-91d5-258f84256a67",
   "metadata": {},
   "source": [
    "## Problems with Our Current Approach 🤔\n",
    "\n",
    "Our current method of feeding entire documents into the context window has several significant drawbacks:\n",
    "\n",
    "Context Window Limits\n",
    "\n",
    "Large documents exceed model context windows\n",
    "Multiple documents compound the problem\n",
    "Important information might get cut off\n",
    "\n",
    "\n",
    "Cost Implications\n",
    "\n",
    "Paying for tokens we might not need\n",
    "Each request includes full document cost\n",
    "Inefficient for repeated queries\n",
    "\n",
    "\n",
    "Latency Issues\n",
    "\n",
    "Larger contexts = slower responses\n",
    "Poor user experience with long wait times\n",
    "Resource intensive\n",
    "\n",
    "\n",
    "Scalability Problems\n",
    "\n",
    "Cannot handle growing document collections\n",
    "Limited by single context window\n",
    "No way to process large document libraries"
   ]
  },
  {
   "cell_type": "code",
   "execution_count": null,
   "id": "605802ce-9b3e-412a-a497-fd23aff46274",
   "metadata": {},
   "outputs": [],
   "source": []
  }
 ],
 "metadata": {
  "kernelspec": {
   "display_name": "Python 3 (ipykernel)",
   "language": "python",
   "name": "python3"
  },
  "language_info": {
   "codemirror_mode": {
    "name": "ipython",
    "version": 3
   },
   "file_extension": ".py",
   "mimetype": "text/x-python",
   "name": "python",
   "nbconvert_exporter": "python",
   "pygments_lexer": "ipython3",
   "version": "3.11.10"
  }
 },
 "nbformat": 4,
 "nbformat_minor": 5
}
